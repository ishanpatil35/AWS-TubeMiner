{
  "nbformat": 4,
  "nbformat_minor": 0,
  "metadata": {
    "colab": {
      "provenance": []
    },
    "kernelspec": {
      "name": "python3",
      "display_name": "Python 3"
    },
    "language_info": {
      "name": "python"
    }
  },
  "cells": [
    {
      "cell_type": "code",
      "execution_count": null,
      "metadata": {
        "id": "pm1qssN61Z-A"
      },
      "outputs": [],
      "source": [
        "import awswrangler as wr\n",
        "import pandas as pd\n",
        "import urllib.parse\n",
        "import os\n",
        "\n",
        "os_input_s3_cleansed_layer = os.environ['s3_cleansed_layer']\n",
        "os_input_glue_catalog_db_name = os.environ['glue_catalog_db_name']\n",
        "os_input_glue_catalog_table_name = os.environ['glue_catalog_table_name']\n",
        "os_input_write_data_operation = os.environ['write_data_operation']\n",
        "\n",
        "\n",
        "def lambda_handler(event, context):\n",
        "\n",
        "    bucket = event['Records'][0]['s3']['bucket']['name']\n",
        "    key = urllib.parse.unquote_plus(event['Records'][0]['s3']['object']['key'], encoding='utf-8')\n",
        "    try:\n",
        "\n",
        "        df_raw = wr.s3.read_json('s3://{}/{}'.format(bucket, key))\n",
        "\n",
        "        df_step_1 = pd.json_normalize(df_raw['items'])\n",
        "\n",
        "\n",
        "        wr_response = wr.s3.to_parquet(\n",
        "            df=df_step_1,\n",
        "            path=os_input_s3_cleansed_layer,\n",
        "            dataset=True,\n",
        "            database=os_input_glue_catalog_db_name,\n",
        "            table=os_input_glue_catalog_table_name,\n",
        "            mode=os_input_write_data_operation\n",
        "        )\n",
        "\n",
        "        return wr_response\n",
        "    except Exception as e:\n",
        "        print(e)\n",
        "        print('Error getting object {} from bucket {}. Make sure they exist and your bucket is in the same region as this function.'.format(key, bucket))\n",
        "        raise e"
      ]
    }
  ]
}