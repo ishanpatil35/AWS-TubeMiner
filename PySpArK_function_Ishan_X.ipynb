{
  "nbformat": 4,
  "nbformat_minor": 0,
  "metadata": {
    "colab": {
      "provenance": []
    },
    "kernelspec": {
      "name": "python3",
      "display_name": "Python 3"
    },
    "language_info": {
      "name": "python"
    }
  },
  "cells": [
    {
      "cell_type": "code",
      "execution_count": null,
      "metadata": {
        "id": "pm1qssN61Z-A"
      },
      "outputs": [],
      "source": [
        "import sys\n",
        "from awsglue.transforms import *\n",
        "from awsglue.utils import getResolvedOptions\n",
        "from pyspark.context import SparkContext\n",
        "from awsglue.context import GlueContext\n",
        "from awsglue.job import Job\n",
        "\n",
        "from awsglue.dynamicframe import DynamicFrame\n",
        "\n",
        "args = getResolvedOptions(sys.argv, [\"JOB_NAME\"])\n",
        "sc = SparkContext()\n",
        "glueContext = GlueContext(sc)\n",
        "spark = glueContext.spark_session\n",
        "job = Job(glueContext)\n",
        "job.init(args[\"JOB_NAME\"], args)\n",
        "\n",
        "predicate_pushdown = \"region in ('ca','gb','us')\"\n",
        "\n",
        "# Script generated for node AWS Glue Data Catalog\n",
        "AWSGlueDataCatalog_node1674432670686 = glueContext.create_dynamic_frame.from_catalog(\n",
        "    database=\"youtube_raw\",\n",
        "    table_name=\"raw_statistics\",\n",
        "    transformation_ctx=\"AWSGlueDataCatalog_node1674432670686\",\n",
        "    push_down_predicate = predicate_pushdown,\n",
        ")\n",
        "\n",
        "# Script generated for node Change Schema (Apply Mapping)\n",
        "ChangeSchemaApplyMapping_node1674432691621 = ApplyMapping.apply(\n",
        "    frame=AWSGlueDataCatalog_node1674432670686,\n",
        "    mappings=[\n",
        "        (\"video_id\", \"string\", \"video_id\", \"string\"),\n",
        "        (\"trending_date\", \"string\", \"trending_date\", \"string\"),\n",
        "        (\"title\", \"string\", \"title\", \"string\"),\n",
        "        (\"channel_title\", \"string\", \"channel_title\", \"string\"),\n",
        "        (\"category_id\", \"long\", \"category_id\", \"long\"),\n",
        "        (\"publish_time\", \"string\", \"publish_time\", \"string\"),\n",
        "        (\"tags\", \"string\", \"tags\", \"string\"),\n",
        "        (\"views\", \"long\", \"views\", \"long\"),\n",
        "        (\"likes\", \"long\", \"likes\", \"long\"),\n",
        "        (\"dislikes\", \"long\", \"dislikes\", \"long\"),\n",
        "        (\"comment_count\", \"long\", \"comment_count\", \"long\"),\n",
        "        (\"thumbnail_link\", \"string\", \"thumbnail_link\", \"string\"),\n",
        "        (\"comments_disabled\", \"boolean\", \"comments_disabled\", \"boolean\"),\n",
        "        (\"ratings_disabled\", \"boolean\", \"ratings_disabled\", \"boolean\"),\n",
        "        (\"video_error_or_removed\", \"boolean\", \"video_error_or_removed\", \"boolean\"),\n",
        "        (\"description\", \"string\", \"description\", \"string\"),\n",
        "        (\"region\", \"string\", \"region\", \"string\"),\n",
        "    ],\n",
        "    transformation_ctx=\"ChangeSchemaApplyMapping_node1674432691621\",\n",
        ")\n",
        "resolvechoice2 = ResolveChoice.apply(frame = ChangeSchemaApplyMapping_node1674432691621, choice = \"make_struct\", transformation_ctx = \"resolvechoice2\")\n",
        "\n",
        "dropnullfields3 = DropNullFields.apply(frame = resolvechoice2, transformation_ctx = \"dropnullfields3\")\n",
        "\n",
        "datasink1 = dropnullfields3.toDF().coalesce(1)\n",
        "df_final_output = DynamicFrame.fromDF(datasink1, glueContext, \"df_final_output\")\n",
        "# Script generated for node Amazon S3\n",
        "AmazonS3_node1674432697293 = glueContext.write_dynamic_frame.from_options(\n",
        "    frame=ChangeSchemaApplyMapping_node1674432691621,\n",
        "    connection_type=\"s3\",\n",
        "    format=\"glueparquet\",\n",
        "    connection_options={\n",
        "        \"path\": \"s3://youtube-dev-useast-1-2303-cleansed/youtube/raw_statistics/\",\n",
        "        \"partitionKeys\": [\"region\"],\n",
        "    },\n",
        "    transformation_ctx=\"AmazonS3_node1674432697293\",\n",
        ")\n",
        "\n",
        "\n",
        "job.commit()"
      ]
    }
  ]
}